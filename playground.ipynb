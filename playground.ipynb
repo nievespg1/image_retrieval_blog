{
 "cells": [
  {
   "cell_type": "code",
   "execution_count": 33,
   "metadata": {},
   "outputs": [],
   "source": [
    "import matplotlib.pyplot as plt\n",
    "import numpy as np"
   ]
  },
  {
   "cell_type": "code",
   "execution_count": 114,
   "metadata": {},
   "outputs": [],
   "source": [
    "max_intensity = 255\n",
    "no_intensity = 0"
   ]
  },
  {
   "cell_type": "code",
   "execution_count": 141,
   "metadata": {},
   "outputs": [
    {
     "data": {
      "image/png": "[encoded data removed]",
      "text/plain": [
       "<Figure size 864x576 with 6 Axes>"
      ]
     },
     "metadata": {
      "needs_background": "light"
     },
     "output_type": "display_data"
    }
   ],
   "source": [
    "channel_names = ['Red', 'Green', 'Blue']\n",
    "combinations = [[0, 0], [1, 1], [2, 2], \n",
    "                [0, 1], [0, 2], [1, 2]]\n",
    "\n",
    "rows = 2\n",
    "cols = 3\n",
    "\n",
    "fig = plt.figure(figsize=(12, 8))\n",
    "for ix, (row, col) in enumerate(combinations):\n",
    "        colors = set([channel_names[row], channel_names[col]])\n",
    "        \n",
    "        channel_color = ''\n",
    "        for color in colors:\n",
    "            channel_color += f'{color} '\n",
    "        channel_color += 'Channel'\n",
    "        \n",
    "        image = np.zeros((3, 244, 244)).astype(np.uint16)\n",
    "        image[row, :] = max_intensity\n",
    "        image[col, :] = max_intensity\n",
    "        \n",
    "        ax = fig.add_subplot(rows, cols, ix+1)\n",
    "        ax.imshow(image.T)\n",
    "        ax.set_title(channel_color)\n",
    "        ax.xaxis.set_visible(False)\n",
    "        ax.yaxis.set_visible(False)\n",
    "    \n",
    "plt.show()"
   ]
  },
  {
   "cell_type": "code",
   "execution_count": null,
   "metadata": {},
   "outputs": [],
   "source": []
  },
  {
   "cell_type": "code",
   "execution_count": null,
   "metadata": {},
   "outputs": [],
   "source": []
  },
  {
   "cell_type": "code",
   "execution_count": null,
   "metadata": {},
   "outputs": [],
   "source": []
  }
 ],
 "metadata": {
  "kernelspec": {
   "display_name": "Python 3",
   "language": "python",
   "name": "python3"
  },
  "language_info": {
   "codemirror_mode": {
    "name": "ipython",
    "version": 3
   },
   "file_extension": ".py",
   "mimetype": "text/x-python",
   "name": "python",
   "nbconvert_exporter": "python",
   "pygments_lexer": "ipython3",
   "version": "3.7.3"
  }
 },
 "nbformat": 4,
 "nbformat_minor": 2
}
