{
 "cells": [
  {
   "cell_type": "code",
   "execution_count": 26,
   "metadata": {},
   "outputs": [],
   "source": [
    "import os\n",
    "import shutil\n",
    "\n",
    "import cv2\n",
    "import numpy as np\n",
    "\n",
    "from glob import glob\n",
    "\n",
    "from tqdm import tqdm"
   ]
  },
  {
   "cell_type": "code",
   "execution_count": 33,
   "metadata": {},
   "outputs": [],
   "source": [
    "def move(src, test=0.3, valid=0.1):\n",
    "    dst, class_name = os.path.split(src)\n",
    "    dst = os.path.split(dst)[0]\n",
    "    images = glob(os.path.join(src, '*'))\n",
    "    num_images = len(images)\n",
    "    index = np.arange(0, num_images)\n",
    "    index = np.random.choice(index, size=num_images, replace=False)\n",
    "    test_stop = num_images * test\n",
    "    val_stop = test_stop + (num_images * valid)\n",
    "    \n",
    "    for i, im in enumerate(index):\n",
    "        image_path = images[im]\n",
    "        image_name = os.path.basename(image_path)\n",
    "        \n",
    "        if i < test_stop:\n",
    "            dst_parent = os.path.join(dst, 'test', class_name)\n",
    "        elif i > test_stop and i < val_stop:\n",
    "            dst_parent = os.path.join(dst, 'valid', class_name)\n",
    "        else:\n",
    "            dst_parent = os.path.join(dst, 'train', class_name)\n",
    "        \n",
    "        if not os.path.exists(dst_parent):\n",
    "            os.makedirs(dst_parent)\n",
    "        \n",
    "        idst = os.path.join(dst_parent, image_name)\n",
    "        shutil.copy(image_path, idst)"
   ]
  },
  {
   "cell_type": "code",
   "execution_count": 34,
   "metadata": {},
   "outputs": [],
   "source": [
    "root = os.path.join('data', 'dataset', 'classes')"
   ]
  },
  {
   "cell_type": "code",
   "execution_count": 36,
   "metadata": {
    "scrolled": false
   },
   "outputs": [
    {
     "name": "stderr",
     "output_type": "stream",
     "text": [
      "100%|██████████| 5/5 [00:00<00:00,  6.97it/s]\n"
     ]
    }
   ],
   "source": [
    "for d in tqdm(glob(os.path.join(root, '*'))):\n",
    "    move(d, test=0.2, valid=0.1)"
   ]
  },
  {
   "cell_type": "code",
   "execution_count": null,
   "metadata": {},
   "outputs": [],
   "source": []
  }
 ],
 "metadata": {
  "kernelspec": {
   "display_name": "Python 3.6 [conda: image_retrieval]",
   "language": "python",
   "name": "image_retrieval"
  },
  "language_info": {
   "codemirror_mode": {
    "name": "ipython",
    "version": 3
   },
   "file_extension": ".py",
   "mimetype": "text/x-python",
   "name": "python",
   "nbconvert_exporter": "python",
   "pygments_lexer": "ipython3",
   "version": "3.6.10"
  }
 },
 "nbformat": 4,
 "nbformat_minor": 2
}
